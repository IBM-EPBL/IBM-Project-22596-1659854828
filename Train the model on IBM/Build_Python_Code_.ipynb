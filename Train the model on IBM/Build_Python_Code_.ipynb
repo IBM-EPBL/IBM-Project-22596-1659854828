{
  "nbformat": 4,
  "nbformat_minor": 0,
  "metadata": {
    "colab": {
      "provenance": []
    },
    "kernelspec": {
      "name": "python3",
      "display_name": "Python 3"
    },
    "language_info": {
      "name": "python"
    }
  },
  "cells": [
    {
      "cell_type": "code",
      "execution_count": null,
      "metadata": {
        "id": "xcW1N0QIOvup"
      },
      "outputs": [],
      "source": [
        "import numpy as np \n",
        "from flask import Flask, render_template, request \n",
        "from tensorflow.keras.models import load_model\n",
        "\n",
        "app = Flask(___name__)\n",
        "model = load_model('crude_oil.h5',) \n",
        "\n",
        "@app.route('/') \n",
        "def home():\n",
        "  return render_template(\"index.html\")\n",
        "@app.route('/about')\n",
        "def home1():\n",
        "  return render_template(\"index.html\")\n",
        "@app.route('/predict')\n",
        "def home2():\n",
        "  return render_template(\"web.html\") \n",
        "@app.route('/login',methods = ['POST']) \n",
        "def login():\n",
        "  x_input=str(request.form['year'])\n",
        "  x_input=x_input.split(',')\n",
        "  print(x_input)\n",
        "  for i in range(0, len(x_input)):\n",
        "      x_input[i] = float(x_input[i])\n",
        "  print(x_input)\n",
        "  x_input=np.array(x_input).reshape(1,-1)\n",
        "  temp_input=list(x_input)\n",
        "  temp_input=temp_input[0].tolist()\n",
        "  1st_output=[]\n",
        "  n_steps=10\n",
        "  i=0\n",
        "  while(i<1):\n",
        "    if(len(temp_input)>10):\n",
        "      x_input=np.array(temp_input[1:]) print(\"{} day input {}\".format(i,x_input))\n",
        "      x_input=x_input.reshape(1,-1)\n",
        "      x_input x_input.reshape((1, n_steps, 1)) =\n",
        "      yhat = model.predict(x_input, verbose=0)\n",
        "      print(\"{} day output {}\".format(i,yhat)) temp_input.extend(yhat[0].tolist())\n",
        "      temp_input=temp_input[1:]\n",
        "      1st_output.extend(yhat.tolist())\n",
        "      i=i+1\n",
        "    else:\n",
        "      x_input x_input.reshape((1, n_steps,1)) = yhat = model.predict(x_input, verbose=0) print(yhat[0])\n",
        "      temp_input.extend(yhat[@].tolist())\n",
        "      print(len(temp_input))\n",
        "      1st_output.extend(yhat.tolist())\n",
        "      i=i+1\n",
        "  print(1st_output)\n",
        "  return render_template(\"web.html\",showcase 'The next day predicted value is:'+str(1st_output))\n",
        "     \n",
        "if '__main__': \n",
        "  app.run(debug True, port=5000)"
      ]
    }
  ]
}