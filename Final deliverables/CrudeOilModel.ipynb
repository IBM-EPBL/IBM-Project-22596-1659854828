{
  "nbformat": 4,
  "nbformat_minor": 0,
  "metadata": {
    "colab": {
      "provenance": []
    },
    "kernelspec": {
      "name": "python3",
      "display_name": "Python 3"
    },
    "language_info": {
      "name": "python"
    }
  },
  "cells": [
    {
      "cell_type": "code",
      "execution_count": null,
      "metadata": {
        "id": "5wlMmR4XjoPh"
      },
      "outputs": [],
      "source": [
        "import pandas as pd\n",
        "import numpy as np\n",
        "import matplotlib.pyplot as plt"
      ]
    },
    {
      "cell_type": "code",
      "source": [
        "from google.colab import drive\n",
        "drive.mount('/content/drive')"
      ],
      "metadata": {
        "colab": {
          "base_uri": "https://localhost:8080/"
        },
        "id": "HpJPk3DUder0",
        "outputId": "4b1fc4cb-743f-49c7-fd77-a9a2d55e7408"
      },
      "execution_count": null,
      "outputs": [
        {
          "output_type": "stream",
          "name": "stdout",
          "text": [
            "Mounted at /content/drive\n"
          ]
        }
      ]
    },
    {
      "cell_type": "code",
      "source": [
        "data = pd.read_excel(\"/content/drive/MyDrive/IBM/Crude Oil Prices Daily.xlsx\")"
      ],
      "metadata": {
        "id": "fcRGmoNAebro"
      },
      "execution_count": null,
      "outputs": []
    },
    {
      "cell_type": "code",
      "source": [
        "data.isnull().any()\n",
        "data.isnull().sum()\n",
        "data.dropna(axis = 0, inplace = True)\n",
        "data.isnull().sum()\n",
        "data_oil = data.reset_index()['Closing Value']\n",
        "data_oil"
      ],
      "metadata": {
        "colab": {
          "base_uri": "https://localhost:8080/"
        },
        "id": "cM0tDk5Oe5FR",
        "outputId": "47efc066-9c64-41c4-b356-9881ecd3e349"
      },
      "execution_count": null,
      "outputs": [
        {
          "output_type": "execute_result",
          "data": {
            "text/plain": [
              "0       25.56\n",
              "1       26.00\n",
              "2       26.53\n",
              "3       25.85\n",
              "4       25.87\n",
              "        ...  \n",
              "8211    73.89\n",
              "8212    74.19\n",
              "8213    73.05\n",
              "8214    73.78\n",
              "8215    73.93\n",
              "Name: Closing Value, Length: 8216, dtype: float64"
            ]
          },
          "metadata": {},
          "execution_count": 4
        }
      ]
    },
    {
      "cell_type": "code",
      "source": [
        "from sklearn.preprocessing import MinMaxScaler\n",
        "scaler=MinMaxScaler (feature_range=(0,1))\n",
        "data_oil=scaler.fit_transform(np.array(data_oil).reshape(-1,1))"
      ],
      "metadata": {
        "id": "I_RhiQ4EfkDO"
      },
      "execution_count": null,
      "outputs": []
    },
    {
      "cell_type": "code",
      "source": [
        "plt.plot(data_oil)"
      ],
      "metadata": {
        "colab": {
          "base_uri": "https://localhost:8080/",
          "height": 282
        },
        "id": "voXa2JVmf6FD",
        "outputId": "a04f439e-5ec5-482b-c163-728caefefd12"
      },
      "execution_count": null,
      "outputs": [
        {
          "output_type": "execute_result",
          "data": {
            "text/plain": [
              "[<matplotlib.lines.Line2D at 0x7fe37875e290>]"
            ]
          },
          "metadata": {},
          "execution_count": 6
        },
        {
          "output_type": "display_data",
          "data": {
            "text/plain": [
              "<Figure size 432x288 with 1 Axes>"
            ],
            "image/png": "[encoded data removed]"
          },
          "metadata": {
            "needs_background": "light"
          }
        }
      ]
    },
    {
      "cell_type": "code",
      "source": [
        "training_size=int(len(data_oil)*0.65)\n",
        "test_size=len(data_oil)-training_size\n",
        "train_data, test_data=data_oil[0:training_size,:],data_oil[training_size:len(data_oil),:1]\n",
        "training_size,test_size\n",
        "train_data.shape"
      ],
      "metadata": {
        "colab": {
          "base_uri": "https://localhost:8080/"
        },
        "id": "ZYhkcX9ygVSI",
        "outputId": "f52e05cb-c826-4f15-f278-63a8a93ad86c"
      },
      "execution_count": null,
      "outputs": [
        {
          "output_type": "execute_result",
          "data": {
            "text/plain": [
              "(5340, 1)"
            ]
          },
          "metadata": {},
          "execution_count": 8
        }
      ]
    },
    {
      "cell_type": "code",
      "source": [
        "def create_dataset(dataset, time_step=1): \n",
        "  dataX, dataY = [], [] \n",
        "  for i in range(len(dataset)-time_step-1):\n",
        "    a = dataset[i:(i+time_step), 0]\n",
        "    dataX.append(a)\n",
        "    dataY.append(dataset[i + time_step, 0])\n",
        "  return np.array(dataX), np.array(dataY)\n",
        "  \n",
        "time_step = 10\n",
        "X_train, y_train = create_dataset(train_data, time_step)\n",
        "X_test, ytest = create_dataset(test_data, time_step)\n",
        "print(X_train.shape), print(y_train.shape)\n",
        "print(X_test.shape), print(ytest.shape)\n",
        "X_train =X_train.reshape(X_train.shape[0],X_train.shape[1],1)\n",
        "X_test= X_test.reshape(X_test.shape[0],X_test.shape[1],1)"
      ],
      "metadata": {
        "colab": {
          "base_uri": "https://localhost:8080/"
        },
        "id": "OLx0Xy9tguJN",
        "outputId": "384ec2bd-ff84-4e4a-9635-4d2628f55cd6"
      },
      "execution_count": null,
      "outputs": [
        {
          "output_type": "stream",
          "name": "stdout",
          "text": [
            "(5329, 10)\n",
            "(5329,)\n",
            "(2865, 10)\n",
            "(2865,)\n"
          ]
        }
      ]
    },
    {
      "cell_type": "code",
      "source": [
        "from tensorflow.keras.models import Sequential\n",
        "from tensorflow.keras.layers import Dense\n",
        "from tensorflow.keras.layers import LSTM"
      ],
      "metadata": {
        "id": "1RMxVixNi0HZ"
      },
      "execution_count": null,
      "outputs": []
    },
    {
      "cell_type": "code",
      "source": [
        "model = Sequential()"
      ],
      "metadata": {
        "id": "xNQ0parnjeCI"
      },
      "execution_count": null,
      "outputs": []
    },
    {
      "cell_type": "code",
      "source": [
        "model.add(LSTM(50,return_sequences=True,input_shape=(10,1)))\n",
        "model.add(LSTM(50, return_sequences=True))\n",
        "model.add(LSTM(50))"
      ],
      "metadata": {
        "id": "9nZ8cJYXjn7i"
      },
      "execution_count": null,
      "outputs": []
    },
    {
      "cell_type": "code",
      "source": [
        "model.add(Dense (1))\n",
        "model.summary()"
      ],
      "metadata": {
        "colab": {
          "base_uri": "https://localhost:8080/"
        },
        "id": "AQFt84lBjvoB",
        "outputId": "3af8b0ef-ffda-4476-bb80-f4f80d9b0c2e"
      },
      "execution_count": null,
      "outputs": [
        {
          "output_type": "stream",
          "name": "stdout",
          "text": [
            "Model: \"sequential\"\n",
            "_________________________________________________________________\n",
            " Layer (type)                Output Shape              Param #   \n",
            "=================================================================\n",
            " lstm (LSTM)                 (None, 10, 50)            10400     \n",
            "                                                                 \n",
            " lstm_1 (LSTM)               (None, 10, 50)            20200     \n",
            "                                                                 \n",
            " lstm_2 (LSTM)               (None, 50)                20200     \n",
            "                                                                 \n",
            " dense (Dense)               (None, 1)                 51        \n",
            "                                                                 \n",
            "=================================================================\n",
            "Total params: 50,851\n",
            "Trainable params: 50,851\n",
            "Non-trainable params: 0\n",
            "_________________________________________________________________\n"
          ]
        }
      ]
    },
    {
      "cell_type": "code",
      "source": [
        "model.compile(loss= 'mean_squared_error', optimizer='adam')"
      ],
      "metadata": {
        "id": "l5OuN6oVj3Yf"
      },
      "execution_count": null,
      "outputs": []
    },
    {
      "cell_type": "code",
      "source": [
        "model.fit(X_train,y_train,validation_data=(X_test,ytest), epochs=50,batch_size=64, verbose = 1)"
      ],
      "metadata": {
        "colab": {
          "base_uri": "https://localhost:8080/"
        },
        "id": "LPkJqBkTlE9s",
        "outputId": "2615a723-a88f-4865-8a37-c5476d3969cf"
      },
      "execution_count": null,
      "outputs": [
        {
          "output_type": "stream",
          "name": "stdout",
          "text": [
            "Epoch 1/50\n",
            "84/84 [==============================] - 10s 46ms/step - loss: 0.0017 - val_loss: 9.4068e-04\n",
            "Epoch 2/50\n",
            "84/84 [==============================] - 3s 30ms/step - loss: 1.2345e-04 - val_loss: 7.4937e-04\n",
            "Epoch 3/50\n",
            "84/84 [==============================] - 2s 27ms/step - loss: 1.2049e-04 - val_loss: 7.8453e-04\n",
            "Epoch 4/50\n",
            "84/84 [==============================] - 2s 29ms/step - loss: 1.2139e-04 - val_loss: 9.9485e-04\n",
            "Epoch 5/50\n",
            "84/84 [==============================] - 3s 32ms/step - loss: 1.2116e-04 - val_loss: 7.8798e-04\n",
            "Epoch 6/50\n",
            "84/84 [==============================] - 2s 29ms/step - loss: 1.1620e-04 - val_loss: 7.7547e-04\n",
            "Epoch 7/50\n",
            "84/84 [==============================] - 2s 26ms/step - loss: 1.1933e-04 - val_loss: 7.3075e-04\n",
            "Epoch 8/50\n",
            "84/84 [==============================] - 2s 28ms/step - loss: 1.2592e-04 - val_loss: 8.4130e-04\n",
            "Epoch 9/50\n",
            "84/84 [==============================] - 2s 29ms/step - loss: 1.1638e-04 - val_loss: 0.0011\n",
            "Epoch 10/50\n",
            "84/84 [==============================] - 2s 26ms/step - loss: 1.1243e-04 - val_loss: 0.0015\n",
            "Epoch 11/50\n",
            "84/84 [==============================] - 2s 26ms/step - loss: 1.1364e-04 - val_loss: 6.2250e-04\n",
            "Epoch 12/50\n",
            "84/84 [==============================] - 2s 28ms/step - loss: 1.0021e-04 - val_loss: 0.0011\n",
            "Epoch 13/50\n",
            "84/84 [==============================] - 2s 28ms/step - loss: 1.0441e-04 - val_loss: 5.6316e-04\n",
            "Epoch 14/50\n",
            "84/84 [==============================] - 2s 27ms/step - loss: 1.0477e-04 - val_loss: 5.8208e-04\n",
            "Epoch 15/50\n",
            "84/84 [==============================] - 2s 29ms/step - loss: 9.8058e-05 - val_loss: 5.4553e-04\n",
            "Epoch 16/50\n",
            "84/84 [==============================] - 4s 45ms/step - loss: 9.3760e-05 - val_loss: 4.8890e-04\n",
            "Epoch 17/50\n",
            "84/84 [==============================] - 3s 31ms/step - loss: 8.3840e-05 - val_loss: 4.5227e-04\n",
            "Epoch 18/50\n",
            "84/84 [==============================] - 2s 28ms/step - loss: 8.8105e-05 - val_loss: 7.1973e-04\n",
            "Epoch 19/50\n",
            "84/84 [==============================] - 2s 29ms/step - loss: 8.4690e-05 - val_loss: 8.5509e-04\n",
            "Epoch 20/50\n",
            "84/84 [==============================] - 2s 27ms/step - loss: 7.8872e-05 - val_loss: 3.7513e-04\n",
            "Epoch 21/50\n",
            "84/84 [==============================] - 2s 29ms/step - loss: 7.5087e-05 - val_loss: 4.2450e-04\n",
            "Epoch 22/50\n",
            "84/84 [==============================] - 2s 29ms/step - loss: 6.9321e-05 - val_loss: 3.2725e-04\n",
            "Epoch 23/50\n",
            "84/84 [==============================] - 2s 28ms/step - loss: 6.7366e-05 - val_loss: 0.0016\n",
            "Epoch 24/50\n",
            "84/84 [==============================] - 2s 27ms/step - loss: 8.1456e-05 - val_loss: 3.2944e-04\n",
            "Epoch 25/50\n",
            "84/84 [==============================] - 2s 27ms/step - loss: 7.8160e-05 - val_loss: 3.5022e-04\n",
            "Epoch 26/50\n",
            "84/84 [==============================] - 2s 27ms/step - loss: 6.6989e-05 - val_loss: 4.4212e-04\n",
            "Epoch 27/50\n",
            "84/84 [==============================] - 2s 26ms/step - loss: 6.2223e-05 - val_loss: 2.8369e-04\n",
            "Epoch 28/50\n",
            "84/84 [==============================] - 2s 26ms/step - loss: 5.4570e-05 - val_loss: 3.1129e-04\n",
            "Epoch 29/50\n",
            "84/84 [==============================] - 2s 29ms/step - loss: 5.6817e-05 - val_loss: 2.5206e-04\n",
            "Epoch 30/50\n",
            "84/84 [==============================] - 2s 30ms/step - loss: 5.4281e-05 - val_loss: 2.9794e-04\n",
            "Epoch 31/50\n",
            "84/84 [==============================] - 3s 30ms/step - loss: 5.3550e-05 - val_loss: 4.7382e-04\n",
            "Epoch 32/50\n",
            "84/84 [==============================] - 3s 30ms/step - loss: 5.3021e-05 - val_loss: 3.8092e-04\n",
            "Epoch 33/50\n",
            "84/84 [==============================] - 2s 28ms/step - loss: 5.0488e-05 - val_loss: 2.2220e-04\n",
            "Epoch 34/50\n",
            "84/84 [==============================] - 2s 29ms/step - loss: 4.7158e-05 - val_loss: 1.9562e-04\n",
            "Epoch 35/50\n",
            "84/84 [==============================] - 2s 29ms/step - loss: 4.7456e-05 - val_loss: 2.3914e-04\n",
            "Epoch 36/50\n",
            "84/84 [==============================] - 2s 28ms/step - loss: 4.4596e-05 - val_loss: 1.9339e-04\n",
            "Epoch 37/50\n",
            "84/84 [==============================] - 2s 30ms/step - loss: 4.0874e-05 - val_loss: 1.8794e-04\n",
            "Epoch 38/50\n",
            "84/84 [==============================] - 2s 27ms/step - loss: 4.0462e-05 - val_loss: 1.8208e-04\n",
            "Epoch 39/50\n",
            "84/84 [==============================] - 2s 28ms/step - loss: 3.8708e-05 - val_loss: 3.1812e-04\n",
            "Epoch 40/50\n",
            "84/84 [==============================] - 3s 34ms/step - loss: 3.8147e-05 - val_loss: 1.9463e-04\n",
            "Epoch 41/50\n",
            "84/84 [==============================] - 2s 28ms/step - loss: 3.8454e-05 - val_loss: 2.3853e-04\n",
            "Epoch 42/50\n",
            "84/84 [==============================] - 3s 37ms/step - loss: 3.6327e-05 - val_loss: 3.5931e-04\n",
            "Epoch 43/50\n",
            "84/84 [==============================] - 3s 38ms/step - loss: 3.8484e-05 - val_loss: 2.0398e-04\n",
            "Epoch 44/50\n",
            "84/84 [==============================] - 2s 28ms/step - loss: 3.6956e-05 - val_loss: 2.0691e-04\n",
            "Epoch 45/50\n",
            "84/84 [==============================] - 2s 27ms/step - loss: 3.2463e-05 - val_loss: 2.2338e-04\n",
            "Epoch 46/50\n",
            "84/84 [==============================] - 2s 28ms/step - loss: 3.7867e-05 - val_loss: 2.9420e-04\n",
            "Epoch 47/50\n",
            "84/84 [==============================] - 2s 30ms/step - loss: 3.6579e-05 - val_loss: 2.5491e-04\n",
            "Epoch 48/50\n",
            "84/84 [==============================] - 2s 28ms/step - loss: 3.4588e-05 - val_loss: 1.8825e-04\n",
            "Epoch 49/50\n",
            "84/84 [==============================] - 2s 28ms/step - loss: 3.4105e-05 - val_loss: 2.1794e-04\n",
            "Epoch 50/50\n",
            "84/84 [==============================] - 2s 27ms/step - loss: 3.2304e-05 - val_loss: 3.6327e-04\n"
          ]
        },
        {
          "output_type": "execute_result",
          "data": {
            "text/plain": [
              "<keras.callbacks.History at 0x7fe3194f3ad0>"
            ]
          },
          "metadata": {},
          "execution_count": 26
        }
      ]
    },
    {
      "cell_type": "code",
      "source": [
        "train_predict = model.predict(X_train)\n",
        "test_predict = model.predict(X_test)\n",
        "train_predict = scaler.inverse_transform(train_predict)\n",
        "test_predict = scaler.inverse_transform(test_predict)\n",
        "\n",
        "import math \n",
        "from sklearn.metrics import mean_squared_error \n",
        "math.sqrt(mean_squared_error(y_train,train_predict))"
      ],
      "metadata": {
        "colab": {
          "base_uri": "https://localhost:8080/"
        },
        "id": "jY6yN7HtmMLm",
        "outputId": "f9e6df8a-da43-408a-a414-8321ae8800d4"
      },
      "execution_count": null,
      "outputs": [
        {
          "output_type": "stream",
          "name": "stdout",
          "text": [
            "167/167 [==============================] - 2s 6ms/step\n",
            "90/90 [==============================] - 1s 7ms/step\n"
          ]
        },
        {
          "output_type": "execute_result",
          "data": {
            "text/plain": [
              "28.725090250670775"
            ]
          },
          "metadata": {},
          "execution_count": 37
        }
      ]
    },
    {
      "cell_type": "code",
      "source": [
        "from tensorflow.keras.models import load_model\n",
        "model.save(\"crude_oil.h5\")"
      ],
      "metadata": {
        "id": "nqJxeGTtpln4"
      },
      "execution_count": null,
      "outputs": []
    },
    {
      "cell_type": "code",
      "source": [
        "look_back=10\n",
        "trainpredictPlot = np.empty_like(data_oil)\n",
        "trainpredictPlot[:, :] = np.nan\n",
        "trainpredictPlot[look_back:len(train_predict)+look_back, :] = train_predict\n",
        "\n",
        "testPredictPlot = np.empty_like(data_oil)\n",
        "testPredictPlot[:, :] = np.nan\n",
        "testPredictPlot[len(train_predict)+(look_back*2)+1:len(data_oil)-1, :] = test_predict\n",
        "\n",
        "plt.plot(scaler.inverse_transform(data_oil))\n",
        "plt.plot(trainpredictPlot)\n",
        "plt.plot(testPredictPlot)\n",
        "plt.show()\n",
        "\n",
        "len(test_data)\n",
        "x_input=test_data[2866:].reshape(1,-1)\n",
        "x_input.shape\n",
        "temp_input=list(x_input)\n",
        "temp_input=temp_input[0].tolist()\n",
        "temp_input\n",
        "\n",
        "lst_output=[]\n",
        "n_steps=10\n",
        "i=0\n",
        "while(i<10):\n",
        "  if(len(temp_input)>10):\n",
        "\n",
        "    x_input=np.array(temp_input[1:]) \n",
        "    print(\"{} day input {}\".format(i,x_input))\n",
        "    x_input=x_input.reshape(1,-1)\n",
        "    x_input = x_input.reshape((1, n_steps, 1))\n",
        "\n",
        "    yhat = model.predict(x_input, verbose=0)\n",
        "    print(\"{} day output {}\".format(i,yhat))\n",
        "    temp_input.extend(yhat[0].tolist())\n",
        "    temp_input=temp_input[1:] #print(temp_input)\n",
        "    lst_output.extend(yhat.tolist())\n",
        "    i=i+1\n",
        "  else:\n",
        "    x_input = x_input.reshape((1, n_steps,1))\n",
        "    yhat = model.predict(x_input, verbose=0) \n",
        "    print(yhat[0]) \n",
        "    temp_input.extend(yhat[0].tolist()) \n",
        "    print(len(temp_input)) \n",
        "    lst_output.extend(yhat.tolist()) \n",
        "    i=i+1\n",
        "\n",
        "day_new=np.arange(1,11)\n",
        "day_pred=np.arange(11,21)\n",
        "len(data_oil)\n",
        "\n",
        "plt.plot(day_new, scaler.inverse_transform(data_oil[8206:]))\n",
        "plt.plot(day_pred, scaler.inverse_transform(lst_output))\n",
        "\n",
        "df3=data_oil.tolist()\n",
        "df3.extend(lst_output)\n",
        "plt.plot(df3[8100:])\n",
        "\n",
        "df3=scaler.inverse_transform(df3).tolist()"
      ],
      "metadata": {
        "colab": {
          "base_uri": "https://localhost:8080/",
          "height": 1000
        },
        "id": "8zTdNFpWptNg",
        "outputId": "be2e7bdf-61c6-4054-a74b-93e5f32c6cff"
      },
      "execution_count": null,
      "outputs": [
        {
          "output_type": "display_data",
          "data": {
            "text/plain": [
              "<Figure size 432x288 with 1 Axes>"
            ],
            "image/png": "[encoded data removed]"
          },
          "metadata": {
            "needs_background": "light"
          }
        },
        {
          "output_type": "stream",
          "name": "stdout",
          "text": [
            "[0.4629682]\n",
            "11\n",
            "1 day input [0.4811195  0.49726048 0.46794017 0.47297497 0.47119799 0.47341922\n",
            " 0.46497853 0.47038353 0.47149415 0.4629682 ]\n",
            "1 day output [[0.453535]]\n",
            "2 day input [0.49726048 0.46794017 0.47297497 0.47119799 0.47341922 0.46497853\n",
            " 0.47038353 0.47149415 0.4629682  0.45353499]\n",
            "2 day output [[0.44303018]]\n",
            "3 day input [0.46794017 0.47297497 0.47119799 0.47341922 0.46497853 0.47038353\n",
            " 0.47149415 0.4629682  0.45353499 0.44303018]\n",
            "3 day output [[0.43268827]]\n",
            "4 day input [0.47297497 0.47119799 0.47341922 0.46497853 0.47038353 0.47149415\n",
            " 0.4629682  0.45353499 0.44303018 0.43268827]\n",
            "4 day output [[0.42336866]]\n",
            "5 day input [0.47119799 0.47341922 0.46497853 0.47038353 0.47149415 0.4629682\n",
            " 0.45353499 0.44303018 0.43268827 0.42336866]\n",
            "5 day output [[0.41522083]]\n",
            "6 day input [0.47341922 0.46497853 0.47038353 0.47149415 0.4629682  0.45353499\n",
            " 0.44303018 0.43268827 0.42336866 0.41522083]\n",
            "6 day output [[0.40816644]]\n",
            "7 day input [0.46497853 0.47038353 0.47149415 0.4629682  0.45353499 0.44303018\n",
            " 0.43268827 0.42336866 0.41522083 0.40816644]\n",
            "7 day output [[0.4019135]]\n",
            "8 day input [0.47038353 0.47149415 0.4629682  0.45353499 0.44303018 0.43268827\n",
            " 0.42336866 0.41522083 0.40816644 0.40191349]\n",
            "8 day output [[0.3962094]]\n",
            "9 day input [0.47149415 0.4629682  0.45353499 0.44303018 0.43268827 0.42336866\n",
            " 0.41522083 0.40816644 0.40191349 0.39620939]\n",
            "9 day output [[0.3907098]]\n"
          ]
        },
        {
          "output_type": "display_data",
          "data": {
            "text/plain": [
              "<Figure size 432x288 with 1 Axes>"
            ],
            "image/png": "[encoded data removed]"
          },
          "metadata": {
            "needs_background": "light"
          }
        }
      ]
    }
  ]
}